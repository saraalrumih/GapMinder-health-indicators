{
 "cells": [
  {
   "cell_type": "markdown",
   "metadata": {},
   "source": [
    "# Project: Investigate a Dataset - [GapMinder World]\n",
    "\n",
    "## Table of Contents\n",
    "<ul>\n",
    "<li><a href=\"#intro\">Introduction</a></li>\n",
    "<li><a href=\"#wrangling\">Data Wrangling</a></li>\n",
    "<li><a href=\"#eda\">Exploratory Data Analysis</a></li>\n",
    "<li><a href=\"#conclusions\">Conclusions</a></li>\n",
    "</ul>"
   ]
  },
  {
   "cell_type": "markdown",
   "metadata": {},
   "source": [
    "<a id='intro'></a>\n",
    "## Introduction\n",
    "\n",
    "### Dataset Description \n",
    "\n",
    "> GapMinder provides various data of global trends and population. It includes datasets of over 100 of indicators around the world in a timely manner, such as:\n",
    "- Babies per woman over the years.\n",
    "- Child mortality over the years.\n",
    "- Average income per country over the years.\n",
    "- Average life expectancy per country over the years.\n",
    "- and other more. \n",
    "\n",
    "\n",
    "> From those indicators we can derive multiple insights and answer different questions.\n",
    "\n",
    "> **In this notebook**, we are going to invistigate **4 indicators** related to the health field in the **6 Gulf countries** (Saudi Arabia, United Arab Emirates, Kuwait, Oman, Qatar, and Bahrain). The selected indicators are as follows:\n",
    "- **1. Medical doctors**: The number of medical doctors per 1000 person per year.\n",
    "- **2. Child mortality**: The total death of children under 5 years of age per 1000 live births.\n",
    "- **3. Life expectancy**: The average number of years a new born child would live if the current mortality pattern stayed the same.\n",
    "- **4. Government spendings in the health sector**: The amount of dollars spent in health per person per year.\n",
    "\n",
    "> The Comma Seperated Value (CSV) data files have been downloaded from [GapMinder](https://www.gapminder.org/data/) website for those 4 indicators. \n",
    "\n",
    "### Questions for Analysis\n",
    "> Based on the above indicators we will try to answer the following questions for the time period from 2008 to 2010:\n",
    "- How is the health awarness in the gulf countries over the years from 2008 to 2010? Relaying on the number of deaths and medical doctors.\n",
    "- Which country spent more in health over the period from 2008 to 2010?\n",
    "- Do governments who spent high dollar amounts in health reported lower deaths and increased their life expectancy? is there a positive relationship?\n",
    "\n",
    "> For sure you, as a reader, might address other questions that diffenetly can be answered. But to keep it short and simple, the above 3 questions will be answered during the analysis."
   ]
  },
  {
   "cell_type": "code",
   "execution_count": 1,
   "metadata": {},
   "outputs": [],
   "source": [
    "# import required packages\n",
    "import pandas as pd\n",
    "import numpy as np\n",
    "import seaborn as sns\n",
    "import matplotlib.pyplot as plt\n",
    "%matplotlib inline"
   ]
  },
  {
   "cell_type": "markdown",
   "metadata": {},
   "source": [
    "<a id='wrangling'></a>\n",
    "## Data Wrangling\n",
    "\n",
    "> In this section, we will perform the following steps:\n",
    "- 1. Load the csv files that contains the data of the 4 selected indicators. \n",
    "- 2. Trim, merge and clean the dataset for analysis. \n",
    "\n",
    "\n",
    "### Data General Properties\n",
    "> Each csv file contains: \n",
    "- **List of countries** \n",
    "- and **the indicator value over the years**.\n",
    "\n",
    "Lets load them.."
   ]
  },
  {
   "cell_type": "code",
   "execution_count": 2,
   "metadata": {},
   "outputs": [
    {
     "data": {
      "text/html": [
       "<div>\n",
       "<style scoped>\n",
       "    .dataframe tbody tr th:only-of-type {\n",
       "        vertical-align: middle;\n",
       "    }\n",
       "\n",
       "    .dataframe tbody tr th {\n",
       "        vertical-align: top;\n",
       "    }\n",
       "\n",
       "    .dataframe thead th {\n",
       "        text-align: right;\n",
       "    }\n",
       "</style>\n",
       "<table border=\"1\" class=\"dataframe\">\n",
       "  <thead>\n",
       "    <tr style=\"text-align: right;\">\n",
       "      <th></th>\n",
       "      <th>country</th>\n",
       "      <th>1800</th>\n",
       "      <th>1801</th>\n",
       "      <th>1802</th>\n",
       "      <th>1803</th>\n",
       "      <th>1804</th>\n",
       "      <th>1805</th>\n",
       "      <th>1806</th>\n",
       "      <th>1807</th>\n",
       "      <th>1808</th>\n",
       "      <th>...</th>\n",
       "      <th>2091</th>\n",
       "      <th>2092</th>\n",
       "      <th>2093</th>\n",
       "      <th>2094</th>\n",
       "      <th>2095</th>\n",
       "      <th>2096</th>\n",
       "      <th>2097</th>\n",
       "      <th>2098</th>\n",
       "      <th>2099</th>\n",
       "      <th>2100</th>\n",
       "    </tr>\n",
       "  </thead>\n",
       "  <tbody>\n",
       "    <tr>\n",
       "      <th>0</th>\n",
       "      <td>Afghanistan</td>\n",
       "      <td>469.0</td>\n",
       "      <td>469.0</td>\n",
       "      <td>469.0</td>\n",
       "      <td>469.0</td>\n",
       "      <td>469.0</td>\n",
       "      <td>469.0</td>\n",
       "      <td>470.0</td>\n",
       "      <td>470.0</td>\n",
       "      <td>470.0</td>\n",
       "      <td>...</td>\n",
       "      <td>12.60</td>\n",
       "      <td>12.40</td>\n",
       "      <td>12.20</td>\n",
       "      <td>12.00</td>\n",
       "      <td>11.80</td>\n",
       "      <td>11.60</td>\n",
       "      <td>11.50</td>\n",
       "      <td>11.30</td>\n",
       "      <td>11.10</td>\n",
       "      <td>11.10</td>\n",
       "    </tr>\n",
       "    <tr>\n",
       "      <th>1</th>\n",
       "      <td>Angola</td>\n",
       "      <td>486.0</td>\n",
       "      <td>486.0</td>\n",
       "      <td>486.0</td>\n",
       "      <td>486.0</td>\n",
       "      <td>486.0</td>\n",
       "      <td>486.0</td>\n",
       "      <td>486.0</td>\n",
       "      <td>486.0</td>\n",
       "      <td>486.0</td>\n",
       "      <td>...</td>\n",
       "      <td>17.70</td>\n",
       "      <td>17.50</td>\n",
       "      <td>17.30</td>\n",
       "      <td>17.10</td>\n",
       "      <td>17.00</td>\n",
       "      <td>16.80</td>\n",
       "      <td>16.60</td>\n",
       "      <td>16.40</td>\n",
       "      <td>16.30</td>\n",
       "      <td>16.30</td>\n",
       "    </tr>\n",
       "    <tr>\n",
       "      <th>2</th>\n",
       "      <td>Albania</td>\n",
       "      <td>375.0</td>\n",
       "      <td>375.0</td>\n",
       "      <td>375.0</td>\n",
       "      <td>375.0</td>\n",
       "      <td>375.0</td>\n",
       "      <td>375.0</td>\n",
       "      <td>375.0</td>\n",
       "      <td>375.0</td>\n",
       "      <td>375.0</td>\n",
       "      <td>...</td>\n",
       "      <td>2.32</td>\n",
       "      <td>2.30</td>\n",
       "      <td>2.27</td>\n",
       "      <td>2.24</td>\n",
       "      <td>2.22</td>\n",
       "      <td>2.19</td>\n",
       "      <td>2.16</td>\n",
       "      <td>2.14</td>\n",
       "      <td>2.11</td>\n",
       "      <td>2.11</td>\n",
       "    </tr>\n",
       "    <tr>\n",
       "      <th>3</th>\n",
       "      <td>Andorra</td>\n",
       "      <td>NaN</td>\n",
       "      <td>NaN</td>\n",
       "      <td>NaN</td>\n",
       "      <td>NaN</td>\n",
       "      <td>NaN</td>\n",
       "      <td>NaN</td>\n",
       "      <td>NaN</td>\n",
       "      <td>NaN</td>\n",
       "      <td>NaN</td>\n",
       "      <td>...</td>\n",
       "      <td>0.86</td>\n",
       "      <td>0.84</td>\n",
       "      <td>0.83</td>\n",
       "      <td>0.81</td>\n",
       "      <td>0.80</td>\n",
       "      <td>0.79</td>\n",
       "      <td>0.78</td>\n",
       "      <td>0.77</td>\n",
       "      <td>0.76</td>\n",
       "      <td>0.76</td>\n",
       "    </tr>\n",
       "    <tr>\n",
       "      <th>4</th>\n",
       "      <td>United Arab Emirates</td>\n",
       "      <td>434.0</td>\n",
       "      <td>434.0</td>\n",
       "      <td>434.0</td>\n",
       "      <td>434.0</td>\n",
       "      <td>434.0</td>\n",
       "      <td>434.0</td>\n",
       "      <td>434.0</td>\n",
       "      <td>434.0</td>\n",
       "      <td>434.0</td>\n",
       "      <td>...</td>\n",
       "      <td>2.31</td>\n",
       "      <td>2.29</td>\n",
       "      <td>2.26</td>\n",
       "      <td>2.24</td>\n",
       "      <td>2.22</td>\n",
       "      <td>2.19</td>\n",
       "      <td>2.17</td>\n",
       "      <td>2.15</td>\n",
       "      <td>2.13</td>\n",
       "      <td>2.13</td>\n",
       "    </tr>\n",
       "  </tbody>\n",
       "</table>\n",
       "<p>5 rows × 302 columns</p>\n",
       "</div>"
      ],
      "text/plain": [
       "                country   1800   1801   1802   1803   1804   1805   1806  \\\n",
       "0           Afghanistan  469.0  469.0  469.0  469.0  469.0  469.0  470.0   \n",
       "1                Angola  486.0  486.0  486.0  486.0  486.0  486.0  486.0   \n",
       "2               Albania  375.0  375.0  375.0  375.0  375.0  375.0  375.0   \n",
       "3               Andorra    NaN    NaN    NaN    NaN    NaN    NaN    NaN   \n",
       "4  United Arab Emirates  434.0  434.0  434.0  434.0  434.0  434.0  434.0   \n",
       "\n",
       "    1807   1808  ...   2091   2092   2093   2094   2095   2096   2097   2098  \\\n",
       "0  470.0  470.0  ...  12.60  12.40  12.20  12.00  11.80  11.60  11.50  11.30   \n",
       "1  486.0  486.0  ...  17.70  17.50  17.30  17.10  17.00  16.80  16.60  16.40   \n",
       "2  375.0  375.0  ...   2.32   2.30   2.27   2.24   2.22   2.19   2.16   2.14   \n",
       "3    NaN    NaN  ...   0.86   0.84   0.83   0.81   0.80   0.79   0.78   0.77   \n",
       "4  434.0  434.0  ...   2.31   2.29   2.26   2.24   2.22   2.19   2.17   2.15   \n",
       "\n",
       "    2099   2100  \n",
       "0  11.10  11.10  \n",
       "1  16.30  16.30  \n",
       "2   2.11   2.11  \n",
       "3   0.76   0.76  \n",
       "4   2.13   2.13  \n",
       "\n",
       "[5 rows x 302 columns]"
      ]
     },
     "execution_count": 2,
     "metadata": {},
     "output_type": "execute_result"
    }
   ],
   "source": [
    "# Loading child mortality data\n",
    "child_mortality = pd.read_csv(\"child_mortality_0_5_year_olds_dying_per_1000_born.csv\")\n",
    "child_mortality.head()"
   ]
  },
  {
   "cell_type": "markdown",
   "metadata": {},
   "source": [
    "**Observation:** the child mortality dataset contains the total death of children under 5 years of age per 1000 live births from 1800 to 2100 (expected) for different countries."
   ]
  },
  {
   "cell_type": "code",
   "execution_count": 3,
   "metadata": {},
   "outputs": [
    {
     "data": {
      "text/html": [
       "<div>\n",
       "<style scoped>\n",
       "    .dataframe tbody tr th:only-of-type {\n",
       "        vertical-align: middle;\n",
       "    }\n",
       "\n",
       "    .dataframe tbody tr th {\n",
       "        vertical-align: top;\n",
       "    }\n",
       "\n",
       "    .dataframe thead th {\n",
       "        text-align: right;\n",
       "    }\n",
       "</style>\n",
       "<table border=\"1\" class=\"dataframe\">\n",
       "  <thead>\n",
       "    <tr style=\"text-align: right;\">\n",
       "      <th></th>\n",
       "      <th>country</th>\n",
       "      <th>1960</th>\n",
       "      <th>1961</th>\n",
       "      <th>1962</th>\n",
       "      <th>1963</th>\n",
       "      <th>1964</th>\n",
       "      <th>1965</th>\n",
       "      <th>1966</th>\n",
       "      <th>1967</th>\n",
       "      <th>1968</th>\n",
       "      <th>...</th>\n",
       "      <th>2010</th>\n",
       "      <th>2011</th>\n",
       "      <th>2012</th>\n",
       "      <th>2013</th>\n",
       "      <th>2014</th>\n",
       "      <th>2015</th>\n",
       "      <th>2016</th>\n",
       "      <th>2017</th>\n",
       "      <th>2018</th>\n",
       "      <th>2019</th>\n",
       "    </tr>\n",
       "  </thead>\n",
       "  <tbody>\n",
       "    <tr>\n",
       "      <th>0</th>\n",
       "      <td>Aruba</td>\n",
       "      <td>NaN</td>\n",
       "      <td>NaN</td>\n",
       "      <td>NaN</td>\n",
       "      <td>NaN</td>\n",
       "      <td>NaN</td>\n",
       "      <td>NaN</td>\n",
       "      <td>NaN</td>\n",
       "      <td>NaN</td>\n",
       "      <td>NaN</td>\n",
       "      <td>...</td>\n",
       "      <td>NaN</td>\n",
       "      <td>NaN</td>\n",
       "      <td>NaN</td>\n",
       "      <td>NaN</td>\n",
       "      <td>NaN</td>\n",
       "      <td>NaN</td>\n",
       "      <td>NaN</td>\n",
       "      <td>NaN</td>\n",
       "      <td>NaN</td>\n",
       "      <td>NaN</td>\n",
       "    </tr>\n",
       "    <tr>\n",
       "      <th>1</th>\n",
       "      <td>Afghanistan</td>\n",
       "      <td>0.035</td>\n",
       "      <td>NaN</td>\n",
       "      <td>NaN</td>\n",
       "      <td>NaN</td>\n",
       "      <td>NaN</td>\n",
       "      <td>0.063</td>\n",
       "      <td>NaN</td>\n",
       "      <td>NaN</td>\n",
       "      <td>NaN</td>\n",
       "      <td>...</td>\n",
       "      <td>0.236</td>\n",
       "      <td>0.252</td>\n",
       "      <td>0.241</td>\n",
       "      <td>0.285</td>\n",
       "      <td>0.298</td>\n",
       "      <td>0.285</td>\n",
       "      <td>0.278</td>\n",
       "      <td>NaN</td>\n",
       "      <td>NaN</td>\n",
       "      <td>NaN</td>\n",
       "    </tr>\n",
       "    <tr>\n",
       "      <th>2</th>\n",
       "      <td>Angola</td>\n",
       "      <td>0.067</td>\n",
       "      <td>NaN</td>\n",
       "      <td>NaN</td>\n",
       "      <td>NaN</td>\n",
       "      <td>NaN</td>\n",
       "      <td>0.076</td>\n",
       "      <td>NaN</td>\n",
       "      <td>NaN</td>\n",
       "      <td>NaN</td>\n",
       "      <td>...</td>\n",
       "      <td>NaN</td>\n",
       "      <td>NaN</td>\n",
       "      <td>NaN</td>\n",
       "      <td>NaN</td>\n",
       "      <td>NaN</td>\n",
       "      <td>NaN</td>\n",
       "      <td>NaN</td>\n",
       "      <td>0.215</td>\n",
       "      <td>NaN</td>\n",
       "      <td>NaN</td>\n",
       "    </tr>\n",
       "    <tr>\n",
       "      <th>3</th>\n",
       "      <td>Albania</td>\n",
       "      <td>0.276</td>\n",
       "      <td>NaN</td>\n",
       "      <td>NaN</td>\n",
       "      <td>NaN</td>\n",
       "      <td>NaN</td>\n",
       "      <td>0.481</td>\n",
       "      <td>NaN</td>\n",
       "      <td>NaN</td>\n",
       "      <td>NaN</td>\n",
       "      <td>...</td>\n",
       "      <td>1.230</td>\n",
       "      <td>1.220</td>\n",
       "      <td>1.270</td>\n",
       "      <td>1.280</td>\n",
       "      <td>NaN</td>\n",
       "      <td>NaN</td>\n",
       "      <td>1.220</td>\n",
       "      <td>NaN</td>\n",
       "      <td>2.16</td>\n",
       "      <td>1.65</td>\n",
       "    </tr>\n",
       "    <tr>\n",
       "      <th>4</th>\n",
       "      <td>Andorra</td>\n",
       "      <td>NaN</td>\n",
       "      <td>NaN</td>\n",
       "      <td>NaN</td>\n",
       "      <td>NaN</td>\n",
       "      <td>NaN</td>\n",
       "      <td>NaN</td>\n",
       "      <td>NaN</td>\n",
       "      <td>NaN</td>\n",
       "      <td>NaN</td>\n",
       "      <td>...</td>\n",
       "      <td>NaN</td>\n",
       "      <td>NaN</td>\n",
       "      <td>NaN</td>\n",
       "      <td>NaN</td>\n",
       "      <td>NaN</td>\n",
       "      <td>3.330</td>\n",
       "      <td>NaN</td>\n",
       "      <td>NaN</td>\n",
       "      <td>NaN</td>\n",
       "      <td>NaN</td>\n",
       "    </tr>\n",
       "  </tbody>\n",
       "</table>\n",
       "<p>5 rows × 61 columns</p>\n",
       "</div>"
      ],
      "text/plain": [
       "       country   1960  1961  1962  1963  1964   1965  1966  1967  1968  ...  \\\n",
       "0        Aruba    NaN   NaN   NaN   NaN   NaN    NaN   NaN   NaN   NaN  ...   \n",
       "1  Afghanistan  0.035   NaN   NaN   NaN   NaN  0.063   NaN   NaN   NaN  ...   \n",
       "2       Angola  0.067   NaN   NaN   NaN   NaN  0.076   NaN   NaN   NaN  ...   \n",
       "3      Albania  0.276   NaN   NaN   NaN   NaN  0.481   NaN   NaN   NaN  ...   \n",
       "4      Andorra    NaN   NaN   NaN   NaN   NaN    NaN   NaN   NaN   NaN  ...   \n",
       "\n",
       "    2010   2011   2012   2013   2014   2015   2016   2017  2018  2019  \n",
       "0    NaN    NaN    NaN    NaN    NaN    NaN    NaN    NaN   NaN   NaN  \n",
       "1  0.236  0.252  0.241  0.285  0.298  0.285  0.278    NaN   NaN   NaN  \n",
       "2    NaN    NaN    NaN    NaN    NaN    NaN    NaN  0.215   NaN   NaN  \n",
       "3  1.230  1.220  1.270  1.280    NaN    NaN  1.220    NaN  2.16  1.65  \n",
       "4    NaN    NaN    NaN    NaN    NaN  3.330    NaN    NaN   NaN   NaN  \n",
       "\n",
       "[5 rows x 61 columns]"
      ]
     },
     "execution_count": 3,
     "metadata": {},
     "output_type": "execute_result"
    }
   ],
   "source": [
    "# Loading medical doctors data\n",
    "medical_doctors = pd.read_csv(\"medical_doctors_per_1000_people.csv\")\n",
    "medical_doctors.head()"
   ]
  },
  {
   "cell_type": "markdown",
   "metadata": {},
   "source": [
    "**Observation:** The medical doctors dataset contains the number of medical doctors per 1000 person over the years from 1960 till 2019. Moreover, it is obvious that this dataset includes missing data (NaNs) that need to be handled before analysis."
   ]
  },
  {
   "cell_type": "code",
   "execution_count": 4,
   "metadata": {},
   "outputs": [
    {
     "data": {
      "text/html": [
       "<div>\n",
       "<style scoped>\n",
       "    .dataframe tbody tr th:only-of-type {\n",
       "        vertical-align: middle;\n",
       "    }\n",
       "\n",
       "    .dataframe tbody tr th {\n",
       "        vertical-align: top;\n",
       "    }\n",
       "\n",
       "    .dataframe thead th {\n",
       "        text-align: right;\n",
       "    }\n",
       "</style>\n",
       "<table border=\"1\" class=\"dataframe\">\n",
       "  <thead>\n",
       "    <tr style=\"text-align: right;\">\n",
       "      <th></th>\n",
       "      <th>country</th>\n",
       "      <th>1800</th>\n",
       "      <th>1801</th>\n",
       "      <th>1802</th>\n",
       "      <th>1803</th>\n",
       "      <th>1804</th>\n",
       "      <th>1805</th>\n",
       "      <th>1806</th>\n",
       "      <th>1807</th>\n",
       "      <th>1808</th>\n",
       "      <th>...</th>\n",
       "      <th>2091</th>\n",
       "      <th>2092</th>\n",
       "      <th>2093</th>\n",
       "      <th>2094</th>\n",
       "      <th>2095</th>\n",
       "      <th>2096</th>\n",
       "      <th>2097</th>\n",
       "      <th>2098</th>\n",
       "      <th>2099</th>\n",
       "      <th>2100</th>\n",
       "    </tr>\n",
       "  </thead>\n",
       "  <tbody>\n",
       "    <tr>\n",
       "      <th>0</th>\n",
       "      <td>Afghanistan</td>\n",
       "      <td>28.2</td>\n",
       "      <td>28.2</td>\n",
       "      <td>28.2</td>\n",
       "      <td>28.2</td>\n",
       "      <td>28.2</td>\n",
       "      <td>28.2</td>\n",
       "      <td>28.1</td>\n",
       "      <td>28.1</td>\n",
       "      <td>28.1</td>\n",
       "      <td>...</td>\n",
       "      <td>75.5</td>\n",
       "      <td>75.7</td>\n",
       "      <td>75.8</td>\n",
       "      <td>76.0</td>\n",
       "      <td>76.1</td>\n",
       "      <td>76.2</td>\n",
       "      <td>76.4</td>\n",
       "      <td>76.5</td>\n",
       "      <td>76.6</td>\n",
       "      <td>76.8</td>\n",
       "    </tr>\n",
       "    <tr>\n",
       "      <th>1</th>\n",
       "      <td>Angola</td>\n",
       "      <td>27.0</td>\n",
       "      <td>27.0</td>\n",
       "      <td>27.0</td>\n",
       "      <td>27.0</td>\n",
       "      <td>27.0</td>\n",
       "      <td>27.0</td>\n",
       "      <td>27.0</td>\n",
       "      <td>27.0</td>\n",
       "      <td>27.0</td>\n",
       "      <td>...</td>\n",
       "      <td>78.8</td>\n",
       "      <td>79.0</td>\n",
       "      <td>79.1</td>\n",
       "      <td>79.2</td>\n",
       "      <td>79.3</td>\n",
       "      <td>79.5</td>\n",
       "      <td>79.6</td>\n",
       "      <td>79.7</td>\n",
       "      <td>79.9</td>\n",
       "      <td>80.0</td>\n",
       "    </tr>\n",
       "    <tr>\n",
       "      <th>2</th>\n",
       "      <td>Albania</td>\n",
       "      <td>35.4</td>\n",
       "      <td>35.4</td>\n",
       "      <td>35.4</td>\n",
       "      <td>35.4</td>\n",
       "      <td>35.4</td>\n",
       "      <td>35.4</td>\n",
       "      <td>35.4</td>\n",
       "      <td>35.4</td>\n",
       "      <td>35.4</td>\n",
       "      <td>...</td>\n",
       "      <td>87.4</td>\n",
       "      <td>87.5</td>\n",
       "      <td>87.6</td>\n",
       "      <td>87.7</td>\n",
       "      <td>87.8</td>\n",
       "      <td>87.9</td>\n",
       "      <td>88.0</td>\n",
       "      <td>88.2</td>\n",
       "      <td>88.3</td>\n",
       "      <td>88.4</td>\n",
       "    </tr>\n",
       "    <tr>\n",
       "      <th>3</th>\n",
       "      <td>Andorra</td>\n",
       "      <td>NaN</td>\n",
       "      <td>NaN</td>\n",
       "      <td>NaN</td>\n",
       "      <td>NaN</td>\n",
       "      <td>NaN</td>\n",
       "      <td>NaN</td>\n",
       "      <td>NaN</td>\n",
       "      <td>NaN</td>\n",
       "      <td>NaN</td>\n",
       "      <td>...</td>\n",
       "      <td>NaN</td>\n",
       "      <td>NaN</td>\n",
       "      <td>NaN</td>\n",
       "      <td>NaN</td>\n",
       "      <td>NaN</td>\n",
       "      <td>NaN</td>\n",
       "      <td>NaN</td>\n",
       "      <td>NaN</td>\n",
       "      <td>NaN</td>\n",
       "      <td>NaN</td>\n",
       "    </tr>\n",
       "    <tr>\n",
       "      <th>4</th>\n",
       "      <td>United Arab Emirates</td>\n",
       "      <td>30.7</td>\n",
       "      <td>30.7</td>\n",
       "      <td>30.7</td>\n",
       "      <td>30.7</td>\n",
       "      <td>30.7</td>\n",
       "      <td>30.7</td>\n",
       "      <td>30.7</td>\n",
       "      <td>30.7</td>\n",
       "      <td>30.7</td>\n",
       "      <td>...</td>\n",
       "      <td>82.4</td>\n",
       "      <td>82.5</td>\n",
       "      <td>82.6</td>\n",
       "      <td>82.7</td>\n",
       "      <td>82.8</td>\n",
       "      <td>82.9</td>\n",
       "      <td>83.0</td>\n",
       "      <td>83.1</td>\n",
       "      <td>83.2</td>\n",
       "      <td>83.3</td>\n",
       "    </tr>\n",
       "  </tbody>\n",
       "</table>\n",
       "<p>5 rows × 302 columns</p>\n",
       "</div>"
      ],
      "text/plain": [
       "                country  1800  1801  1802  1803  1804  1805  1806  1807  1808  \\\n",
       "0           Afghanistan  28.2  28.2  28.2  28.2  28.2  28.2  28.1  28.1  28.1   \n",
       "1                Angola  27.0  27.0  27.0  27.0  27.0  27.0  27.0  27.0  27.0   \n",
       "2               Albania  35.4  35.4  35.4  35.4  35.4  35.4  35.4  35.4  35.4   \n",
       "3               Andorra   NaN   NaN   NaN   NaN   NaN   NaN   NaN   NaN   NaN   \n",
       "4  United Arab Emirates  30.7  30.7  30.7  30.7  30.7  30.7  30.7  30.7  30.7   \n",
       "\n",
       "   ...  2091  2092  2093  2094  2095  2096  2097  2098  2099  2100  \n",
       "0  ...  75.5  75.7  75.8  76.0  76.1  76.2  76.4  76.5  76.6  76.8  \n",
       "1  ...  78.8  79.0  79.1  79.2  79.3  79.5  79.6  79.7  79.9  80.0  \n",
       "2  ...  87.4  87.5  87.6  87.7  87.8  87.9  88.0  88.2  88.3  88.4  \n",
       "3  ...   NaN   NaN   NaN   NaN   NaN   NaN   NaN   NaN   NaN   NaN  \n",
       "4  ...  82.4  82.5  82.6  82.7  82.8  82.9  83.0  83.1  83.2  83.3  \n",
       "\n",
       "[5 rows x 302 columns]"
      ]
     },
     "execution_count": 4,
     "metadata": {},
     "output_type": "execute_result"
    }
   ],
   "source": [
    "# Loading life expectancy data\n",
    "life_expectancy = pd.read_csv(\"life_expectancy_years.csv\")\n",
    "life_expectancy.head()"
   ]
  },
  {
   "cell_type": "markdown",
   "metadata": {},
   "source": [
    "**Observation:** The life expectancy dataset contains the average number of years a new born child would live if the current mortality pattern stayed the same for the period from 1800 to 2100 (expected). Moreover, we can see that we have missing data for some countries that need to be considered."
   ]
  },
  {
   "cell_type": "code",
   "execution_count": 5,
   "metadata": {},
   "outputs": [
    {
     "data": {
      "text/html": [
       "<div>\n",
       "<style scoped>\n",
       "    .dataframe tbody tr th:only-of-type {\n",
       "        vertical-align: middle;\n",
       "    }\n",
       "\n",
       "    .dataframe tbody tr th {\n",
       "        vertical-align: top;\n",
       "    }\n",
       "\n",
       "    .dataframe thead th {\n",
       "        text-align: right;\n",
       "    }\n",
       "</style>\n",
       "<table border=\"1\" class=\"dataframe\">\n",
       "  <thead>\n",
       "    <tr style=\"text-align: right;\">\n",
       "      <th></th>\n",
       "      <th>country</th>\n",
       "      <th>1995</th>\n",
       "      <th>1996</th>\n",
       "      <th>1997</th>\n",
       "      <th>1998</th>\n",
       "      <th>1999</th>\n",
       "      <th>2000</th>\n",
       "      <th>2001</th>\n",
       "      <th>2002</th>\n",
       "      <th>2003</th>\n",
       "      <th>2004</th>\n",
       "      <th>2005</th>\n",
       "      <th>2006</th>\n",
       "      <th>2007</th>\n",
       "      <th>2008</th>\n",
       "      <th>2009</th>\n",
       "      <th>2010</th>\n",
       "    </tr>\n",
       "  </thead>\n",
       "  <tbody>\n",
       "    <tr>\n",
       "      <th>0</th>\n",
       "      <td>Afghanistan</td>\n",
       "      <td>NaN</td>\n",
       "      <td>NaN</td>\n",
       "      <td>NaN</td>\n",
       "      <td>NaN</td>\n",
       "      <td>NaN</td>\n",
       "      <td>NaN</td>\n",
       "      <td>NaN</td>\n",
       "      <td>0.833</td>\n",
       "      <td>1.25</td>\n",
       "      <td>1.61</td>\n",
       "      <td>2.52</td>\n",
       "      <td>2.81</td>\n",
       "      <td>3.5</td>\n",
       "      <td>3.75</td>\n",
       "      <td>3.91</td>\n",
       "      <td>4.39</td>\n",
       "    </tr>\n",
       "    <tr>\n",
       "      <th>1</th>\n",
       "      <td>Angola</td>\n",
       "      <td>13.5</td>\n",
       "      <td>8.72</td>\n",
       "      <td>10.5</td>\n",
       "      <td>6.65</td>\n",
       "      <td>6.55</td>\n",
       "      <td>12.5</td>\n",
       "      <td>18.3</td>\n",
       "      <td>14.300</td>\n",
       "      <td>19.40</td>\n",
       "      <td>19.70</td>\n",
       "      <td>27.10</td>\n",
       "      <td>50.90</td>\n",
       "      <td>68.4</td>\n",
       "      <td>126.00</td>\n",
       "      <td>181.00</td>\n",
       "      <td>102.00</td>\n",
       "    </tr>\n",
       "    <tr>\n",
       "      <th>2</th>\n",
       "      <td>Albania</td>\n",
       "      <td>13.9</td>\n",
       "      <td>17.10</td>\n",
       "      <td>14.2</td>\n",
       "      <td>18.60</td>\n",
       "      <td>28.10</td>\n",
       "      <td>27.2</td>\n",
       "      <td>30.5</td>\n",
       "      <td>32.500</td>\n",
       "      <td>40.60</td>\n",
       "      <td>63.90</td>\n",
       "      <td>71.40</td>\n",
       "      <td>75.50</td>\n",
       "      <td>88.8</td>\n",
       "      <td>109.00</td>\n",
       "      <td>107.00</td>\n",
       "      <td>94.00</td>\n",
       "    </tr>\n",
       "    <tr>\n",
       "      <th>3</th>\n",
       "      <td>Andorra</td>\n",
       "      <td>897.0</td>\n",
       "      <td>983.00</td>\n",
       "      <td>967.0</td>\n",
       "      <td>1340.00</td>\n",
       "      <td>942.00</td>\n",
       "      <td>862.0</td>\n",
       "      <td>890.0</td>\n",
       "      <td>1020.000</td>\n",
       "      <td>1300.00</td>\n",
       "      <td>1520.00</td>\n",
       "      <td>1630.00</td>\n",
       "      <td>1850.00</td>\n",
       "      <td>2100.0</td>\n",
       "      <td>2370.00</td>\n",
       "      <td>2360.00</td>\n",
       "      <td>2170.00</td>\n",
       "    </tr>\n",
       "    <tr>\n",
       "      <th>4</th>\n",
       "      <td>United Arab Emirates</td>\n",
       "      <td>583.0</td>\n",
       "      <td>580.00</td>\n",
       "      <td>588.0</td>\n",
       "      <td>565.00</td>\n",
       "      <td>559.00</td>\n",
       "      <td>577.0</td>\n",
       "      <td>638.0</td>\n",
       "      <td>578.000</td>\n",
       "      <td>611.00</td>\n",
       "      <td>588.00</td>\n",
       "      <td>608.00</td>\n",
       "      <td>659.00</td>\n",
       "      <td>718.0</td>\n",
       "      <td>1010.00</td>\n",
       "      <td>1310.00</td>\n",
       "      <td>1080.00</td>\n",
       "    </tr>\n",
       "  </tbody>\n",
       "</table>\n",
       "</div>"
      ],
      "text/plain": [
       "                country   1995    1996   1997     1998    1999   2000   2001  \\\n",
       "0           Afghanistan    NaN     NaN    NaN      NaN     NaN    NaN    NaN   \n",
       "1                Angola   13.5    8.72   10.5     6.65    6.55   12.5   18.3   \n",
       "2               Albania   13.9   17.10   14.2    18.60   28.10   27.2   30.5   \n",
       "3               Andorra  897.0  983.00  967.0  1340.00  942.00  862.0  890.0   \n",
       "4  United Arab Emirates  583.0  580.00  588.0   565.00  559.00  577.0  638.0   \n",
       "\n",
       "       2002     2003     2004     2005     2006    2007     2008     2009  \\\n",
       "0     0.833     1.25     1.61     2.52     2.81     3.5     3.75     3.91   \n",
       "1    14.300    19.40    19.70    27.10    50.90    68.4   126.00   181.00   \n",
       "2    32.500    40.60    63.90    71.40    75.50    88.8   109.00   107.00   \n",
       "3  1020.000  1300.00  1520.00  1630.00  1850.00  2100.0  2370.00  2360.00   \n",
       "4   578.000   611.00   588.00   608.00   659.00   718.0  1010.00  1310.00   \n",
       "\n",
       "      2010  \n",
       "0     4.39  \n",
       "1   102.00  \n",
       "2    94.00  \n",
       "3  2170.00  \n",
       "4  1080.00  "
      ]
     },
     "execution_count": 5,
     "metadata": {},
     "output_type": "execute_result"
    }
   ],
   "source": [
    "# Loading government spendings in the health sector data\n",
    "gov_health_spending_per_person = pd.read_csv(\"government_health_spending_per_person_us.csv\")\n",
    "gov_health_spending_per_person.head()"
   ]
  },
  {
   "cell_type": "markdown",
   "metadata": {},
   "source": [
    "**Observation:** The government spendings in the health sector dataset contains the amount of dollars spent in health per person per year. The data also contains nulls."
   ]
  },
  {
   "cell_type": "markdown",
   "metadata": {},
   "source": [
    "\n",
    "### Data Cleaning\n",
    "> Since we have the data split into 4 dataframes, we need to merge/join them in one. However, we first need to eliminate out-of-scope fields (years > 2010 and years < 2008). Thus, we will perform the following steps:\n",
    "- 1. Drop out of scope columns from all 4 dataframes.\n",
    "- 2. Convert columns (years) to rows so that the data will be: country, year, indicator value\n",
    "- 3. Merge 4 dataframes into one.\n",
    "- 4. Check for nulls and handle missing data.\n",
    "- 5. Create a dataframe including Gulf countries data only.\n",
    " "
   ]
  },
  {
   "cell_type": "markdown",
   "metadata": {},
   "source": [
    "### Step 1: Drop unrelated fields"
   ]
  },
  {
   "cell_type": "code",
   "execution_count": 6,
   "metadata": {},
   "outputs": [],
   "source": [
    "# Step 1: delete unrelated fields\n",
    "def drop_out_of_scope_columns(df):\n",
    "    # Select period, in this report the data period is from 2008 to 2010\n",
    "    scope_columns = np.arange(2008,2011,1)\n",
    "    # convert np.array items to str \n",
    "    scope_columns = scope_columns.astype(str)\n",
    "    \n",
    "    # append the country field to the selected data period\n",
    "    scope_columns= np.append(scope_columns, 'country')\n",
    "    \n",
    "    # return a dataframe after dropping unrelated fields\n",
    "    return df.drop(columns=[col for col in df if col not in scope_columns])"
   ]
  },
  {
   "cell_type": "code",
   "execution_count": 7,
   "metadata": {},
   "outputs": [
    {
     "data": {
      "text/html": [
       "<div>\n",
       "<style scoped>\n",
       "    .dataframe tbody tr th:only-of-type {\n",
       "        vertical-align: middle;\n",
       "    }\n",
       "\n",
       "    .dataframe tbody tr th {\n",
       "        vertical-align: top;\n",
       "    }\n",
       "\n",
       "    .dataframe thead th {\n",
       "        text-align: right;\n",
       "    }\n",
       "</style>\n",
       "<table border=\"1\" class=\"dataframe\">\n",
       "  <thead>\n",
       "    <tr style=\"text-align: right;\">\n",
       "      <th></th>\n",
       "      <th>country</th>\n",
       "      <th>2008</th>\n",
       "      <th>2009</th>\n",
       "      <th>2010</th>\n",
       "    </tr>\n",
       "  </thead>\n",
       "  <tbody>\n",
       "    <tr>\n",
       "      <th>0</th>\n",
       "      <td>Afghanistan</td>\n",
       "      <td>96.00</td>\n",
       "      <td>91.90</td>\n",
       "      <td>88.00</td>\n",
       "    </tr>\n",
       "    <tr>\n",
       "      <th>1</th>\n",
       "      <td>Angola</td>\n",
       "      <td>138.00</td>\n",
       "      <td>129.00</td>\n",
       "      <td>120.00</td>\n",
       "    </tr>\n",
       "    <tr>\n",
       "      <th>2</th>\n",
       "      <td>Albania</td>\n",
       "      <td>15.50</td>\n",
       "      <td>14.40</td>\n",
       "      <td>13.30</td>\n",
       "    </tr>\n",
       "    <tr>\n",
       "      <th>3</th>\n",
       "      <td>Andorra</td>\n",
       "      <td>4.62</td>\n",
       "      <td>4.39</td>\n",
       "      <td>4.18</td>\n",
       "    </tr>\n",
       "    <tr>\n",
       "      <th>4</th>\n",
       "      <td>United Arab Emirates</td>\n",
       "      <td>8.93</td>\n",
       "      <td>8.69</td>\n",
       "      <td>8.48</td>\n",
       "    </tr>\n",
       "  </tbody>\n",
       "</table>\n",
       "</div>"
      ],
      "text/plain": [
       "                country    2008    2009    2010\n",
       "0           Afghanistan   96.00   91.90   88.00\n",
       "1                Angola  138.00  129.00  120.00\n",
       "2               Albania   15.50   14.40   13.30\n",
       "3               Andorra    4.62    4.39    4.18\n",
       "4  United Arab Emirates    8.93    8.69    8.48"
      ]
     },
     "execution_count": 7,
     "metadata": {},
     "output_type": "execute_result"
    }
   ],
   "source": [
    "child_mortality_2008_2010 = drop_out_of_scope_columns(child_mortality)\n",
    "child_mortality_2008_2010.head()"
   ]
  },
  {
   "cell_type": "code",
   "execution_count": 8,
   "metadata": {},
   "outputs": [
    {
     "data": {
      "text/html": [
       "<div>\n",
       "<style scoped>\n",
       "    .dataframe tbody tr th:only-of-type {\n",
       "        vertical-align: middle;\n",
       "    }\n",
       "\n",
       "    .dataframe tbody tr th {\n",
       "        vertical-align: top;\n",
       "    }\n",
       "\n",
       "    .dataframe thead th {\n",
       "        text-align: right;\n",
       "    }\n",
       "</style>\n",
       "<table border=\"1\" class=\"dataframe\">\n",
       "  <thead>\n",
       "    <tr style=\"text-align: right;\">\n",
       "      <th></th>\n",
       "      <th>country</th>\n",
       "      <th>2008</th>\n",
       "      <th>2009</th>\n",
       "      <th>2010</th>\n",
       "    </tr>\n",
       "  </thead>\n",
       "  <tbody>\n",
       "    <tr>\n",
       "      <th>0</th>\n",
       "      <td>Aruba</td>\n",
       "      <td>NaN</td>\n",
       "      <td>NaN</td>\n",
       "      <td>NaN</td>\n",
       "    </tr>\n",
       "    <tr>\n",
       "      <th>1</th>\n",
       "      <td>Afghanistan</td>\n",
       "      <td>0.174</td>\n",
       "      <td>0.213</td>\n",
       "      <td>0.236</td>\n",
       "    </tr>\n",
       "    <tr>\n",
       "      <th>2</th>\n",
       "      <td>Angola</td>\n",
       "      <td>NaN</td>\n",
       "      <td>0.131</td>\n",
       "      <td>NaN</td>\n",
       "    </tr>\n",
       "    <tr>\n",
       "      <th>3</th>\n",
       "      <td>Albania</td>\n",
       "      <td>NaN</td>\n",
       "      <td>1.230</td>\n",
       "      <td>1.230</td>\n",
       "    </tr>\n",
       "    <tr>\n",
       "      <th>4</th>\n",
       "      <td>Andorra</td>\n",
       "      <td>NaN</td>\n",
       "      <td>3.150</td>\n",
       "      <td>NaN</td>\n",
       "    </tr>\n",
       "  </tbody>\n",
       "</table>\n",
       "</div>"
      ],
      "text/plain": [
       "       country   2008   2009   2010\n",
       "0        Aruba    NaN    NaN    NaN\n",
       "1  Afghanistan  0.174  0.213  0.236\n",
       "2       Angola    NaN  0.131    NaN\n",
       "3      Albania    NaN  1.230  1.230\n",
       "4      Andorra    NaN  3.150    NaN"
      ]
     },
     "execution_count": 8,
     "metadata": {},
     "output_type": "execute_result"
    }
   ],
   "source": [
    "medical_doctors_2008_2010 = drop_out_of_scope_columns(medical_doctors)\n",
    "medical_doctors_2008_2010.head()"
   ]
  },
  {
   "cell_type": "code",
   "execution_count": 9,
   "metadata": {},
   "outputs": [
    {
     "data": {
      "text/html": [
       "<div>\n",
       "<style scoped>\n",
       "    .dataframe tbody tr th:only-of-type {\n",
       "        vertical-align: middle;\n",
       "    }\n",
       "\n",
       "    .dataframe tbody tr th {\n",
       "        vertical-align: top;\n",
       "    }\n",
       "\n",
       "    .dataframe thead th {\n",
       "        text-align: right;\n",
       "    }\n",
       "</style>\n",
       "<table border=\"1\" class=\"dataframe\">\n",
       "  <thead>\n",
       "    <tr style=\"text-align: right;\">\n",
       "      <th></th>\n",
       "      <th>country</th>\n",
       "      <th>2008</th>\n",
       "      <th>2009</th>\n",
       "      <th>2010</th>\n",
       "    </tr>\n",
       "  </thead>\n",
       "  <tbody>\n",
       "    <tr>\n",
       "      <th>0</th>\n",
       "      <td>Afghanistan</td>\n",
       "      <td>59.2</td>\n",
       "      <td>59.9</td>\n",
       "      <td>60.5</td>\n",
       "    </tr>\n",
       "    <tr>\n",
       "      <th>1</th>\n",
       "      <td>Angola</td>\n",
       "      <td>58.8</td>\n",
       "      <td>59.5</td>\n",
       "      <td>60.2</td>\n",
       "    </tr>\n",
       "    <tr>\n",
       "      <th>2</th>\n",
       "      <td>Albania</td>\n",
       "      <td>77.6</td>\n",
       "      <td>78.0</td>\n",
       "      <td>78.1</td>\n",
       "    </tr>\n",
       "    <tr>\n",
       "      <th>3</th>\n",
       "      <td>Andorra</td>\n",
       "      <td>81.8</td>\n",
       "      <td>81.8</td>\n",
       "      <td>81.8</td>\n",
       "    </tr>\n",
       "    <tr>\n",
       "      <th>4</th>\n",
       "      <td>United Arab Emirates</td>\n",
       "      <td>70.4</td>\n",
       "      <td>70.6</td>\n",
       "      <td>70.8</td>\n",
       "    </tr>\n",
       "  </tbody>\n",
       "</table>\n",
       "</div>"
      ],
      "text/plain": [
       "                country  2008  2009  2010\n",
       "0           Afghanistan  59.2  59.9  60.5\n",
       "1                Angola  58.8  59.5  60.2\n",
       "2               Albania  77.6  78.0  78.1\n",
       "3               Andorra  81.8  81.8  81.8\n",
       "4  United Arab Emirates  70.4  70.6  70.8"
      ]
     },
     "execution_count": 9,
     "metadata": {},
     "output_type": "execute_result"
    }
   ],
   "source": [
    "life_expectancy_2008_2010 = drop_out_of_scope_columns(life_expectancy)\n",
    "life_expectancy_2008_2010.head()"
   ]
  },
  {
   "cell_type": "code",
   "execution_count": 10,
   "metadata": {},
   "outputs": [
    {
     "data": {
      "text/html": [
       "<div>\n",
       "<style scoped>\n",
       "    .dataframe tbody tr th:only-of-type {\n",
       "        vertical-align: middle;\n",
       "    }\n",
       "\n",
       "    .dataframe tbody tr th {\n",
       "        vertical-align: top;\n",
       "    }\n",
       "\n",
       "    .dataframe thead th {\n",
       "        text-align: right;\n",
       "    }\n",
       "</style>\n",
       "<table border=\"1\" class=\"dataframe\">\n",
       "  <thead>\n",
       "    <tr style=\"text-align: right;\">\n",
       "      <th></th>\n",
       "      <th>country</th>\n",
       "      <th>2008</th>\n",
       "      <th>2009</th>\n",
       "      <th>2010</th>\n",
       "    </tr>\n",
       "  </thead>\n",
       "  <tbody>\n",
       "    <tr>\n",
       "      <th>0</th>\n",
       "      <td>Afghanistan</td>\n",
       "      <td>3.75</td>\n",
       "      <td>3.91</td>\n",
       "      <td>4.39</td>\n",
       "    </tr>\n",
       "    <tr>\n",
       "      <th>1</th>\n",
       "      <td>Angola</td>\n",
       "      <td>126.00</td>\n",
       "      <td>181.00</td>\n",
       "      <td>102.00</td>\n",
       "    </tr>\n",
       "    <tr>\n",
       "      <th>2</th>\n",
       "      <td>Albania</td>\n",
       "      <td>109.00</td>\n",
       "      <td>107.00</td>\n",
       "      <td>94.00</td>\n",
       "    </tr>\n",
       "    <tr>\n",
       "      <th>3</th>\n",
       "      <td>Andorra</td>\n",
       "      <td>2370.00</td>\n",
       "      <td>2360.00</td>\n",
       "      <td>2170.00</td>\n",
       "    </tr>\n",
       "    <tr>\n",
       "      <th>4</th>\n",
       "      <td>United Arab Emirates</td>\n",
       "      <td>1010.00</td>\n",
       "      <td>1310.00</td>\n",
       "      <td>1080.00</td>\n",
       "    </tr>\n",
       "  </tbody>\n",
       "</table>\n",
       "</div>"
      ],
      "text/plain": [
       "                country     2008     2009     2010\n",
       "0           Afghanistan     3.75     3.91     4.39\n",
       "1                Angola   126.00   181.00   102.00\n",
       "2               Albania   109.00   107.00    94.00\n",
       "3               Andorra  2370.00  2360.00  2170.00\n",
       "4  United Arab Emirates  1010.00  1310.00  1080.00"
      ]
     },
     "execution_count": 10,
     "metadata": {},
     "output_type": "execute_result"
    }
   ],
   "source": [
    "gov_health_spending_per_person_2008_2010 = drop_out_of_scope_columns(gov_health_spending_per_person)\n",
    "gov_health_spending_per_person_2008_2010.head()"
   ]
  },
  {
   "cell_type": "markdown",
   "metadata": {},
   "source": [
    "### Step 2: Convert columns to rows \n",
    "Previous fields:\n",
    "**country, 2008, 2009, 2010**\n",
    "\n",
    "\n",
    "Converted fields:\n",
    "**country, year, indicator value**"
   ]
  },
  {
   "cell_type": "code",
   "execution_count": 11,
   "metadata": {},
   "outputs": [],
   "source": [
    "# convert columns to rows\n",
    "child_mortality_2008_2010 = child_mortality_2008_2010.melt(id_vars=[\"country\"], \n",
    "        var_name=\"year\",\n",
    "        value_name=\"total_childer_death_per_1000_births\")\n",
    "\n",
    "medical_doctors_2008_2010 = medical_doctors_2008_2010.melt(id_vars=[\"country\"], \n",
    "        var_name=\"year\", \n",
    "        value_name=\"medical_doctors_per_1000_people\")\n",
    "\n",
    "life_expectancy_2008_2010 = life_expectancy_2008_2010.melt(id_vars=[\"country\"], \n",
    "        var_name=\"year\", \n",
    "        value_name=\"avg_living_years\")\n",
    "\n",
    "gov_health_spending_per_person_2008_2010 = gov_health_spending_per_person_2008_2010.melt(id_vars=[\"country\"], \n",
    "        var_name=\"year\", \n",
    "        value_name=\"gov_health_spending_per_person($)\")"
   ]
  },
  {
   "cell_type": "markdown",
   "metadata": {},
   "source": [
    "### Step 3: Merge 4 dataframes to 1  "
   ]
  },
  {
   "cell_type": "code",
   "execution_count": 12,
   "metadata": {},
   "outputs": [
    {
     "data": {
      "text/html": [
       "<div>\n",
       "<style scoped>\n",
       "    .dataframe tbody tr th:only-of-type {\n",
       "        vertical-align: middle;\n",
       "    }\n",
       "\n",
       "    .dataframe tbody tr th {\n",
       "        vertical-align: top;\n",
       "    }\n",
       "\n",
       "    .dataframe thead th {\n",
       "        text-align: right;\n",
       "    }\n",
       "</style>\n",
       "<table border=\"1\" class=\"dataframe\">\n",
       "  <thead>\n",
       "    <tr style=\"text-align: right;\">\n",
       "      <th></th>\n",
       "      <th>country</th>\n",
       "      <th>year</th>\n",
       "      <th>total_childer_death_per_1000_births</th>\n",
       "      <th>medical_doctors_per_1000_people</th>\n",
       "      <th>avg_living_years</th>\n",
       "      <th>gov_health_spending_per_person($)</th>\n",
       "    </tr>\n",
       "  </thead>\n",
       "  <tbody>\n",
       "    <tr>\n",
       "      <th>0</th>\n",
       "      <td>Afghanistan</td>\n",
       "      <td>2008</td>\n",
       "      <td>96.00</td>\n",
       "      <td>0.174</td>\n",
       "      <td>59.2</td>\n",
       "      <td>3.75</td>\n",
       "    </tr>\n",
       "    <tr>\n",
       "      <th>1</th>\n",
       "      <td>Angola</td>\n",
       "      <td>2008</td>\n",
       "      <td>138.00</td>\n",
       "      <td>NaN</td>\n",
       "      <td>58.8</td>\n",
       "      <td>126.00</td>\n",
       "    </tr>\n",
       "    <tr>\n",
       "      <th>2</th>\n",
       "      <td>Albania</td>\n",
       "      <td>2008</td>\n",
       "      <td>15.50</td>\n",
       "      <td>NaN</td>\n",
       "      <td>77.6</td>\n",
       "      <td>109.00</td>\n",
       "    </tr>\n",
       "    <tr>\n",
       "      <th>3</th>\n",
       "      <td>Andorra</td>\n",
       "      <td>2008</td>\n",
       "      <td>4.62</td>\n",
       "      <td>NaN</td>\n",
       "      <td>81.8</td>\n",
       "      <td>2370.00</td>\n",
       "    </tr>\n",
       "    <tr>\n",
       "      <th>4</th>\n",
       "      <td>United Arab Emirates</td>\n",
       "      <td>2008</td>\n",
       "      <td>8.93</td>\n",
       "      <td>1.640</td>\n",
       "      <td>70.4</td>\n",
       "      <td>1010.00</td>\n",
       "    </tr>\n",
       "  </tbody>\n",
       "</table>\n",
       "</div>"
      ],
      "text/plain": [
       "                country  year  total_childer_death_per_1000_births  \\\n",
       "0           Afghanistan  2008                                96.00   \n",
       "1                Angola  2008                               138.00   \n",
       "2               Albania  2008                                15.50   \n",
       "3               Andorra  2008                                 4.62   \n",
       "4  United Arab Emirates  2008                                 8.93   \n",
       "\n",
       "   medical_doctors_per_1000_people  avg_living_years  \\\n",
       "0                            0.174              59.2   \n",
       "1                              NaN              58.8   \n",
       "2                              NaN              77.6   \n",
       "3                              NaN              81.8   \n",
       "4                            1.640              70.4   \n",
       "\n",
       "   gov_health_spending_per_person($)  \n",
       "0                               3.75  \n",
       "1                             126.00  \n",
       "2                             109.00  \n",
       "3                            2370.00  \n",
       "4                            1010.00  "
      ]
     },
     "execution_count": 12,
     "metadata": {},
     "output_type": "execute_result"
    }
   ],
   "source": [
    "# merge datasets to 1 dataframe\n",
    "df = pd.merge(child_mortality_2008_2010, medical_doctors_2008_2010, on=['country','year'])\n",
    "df = pd.merge(df, life_expectancy_2008_2010, on=['country','year'])\n",
    "df = pd.merge(df, gov_health_spending_per_person_2008_2010, on=['country','year'])\n",
    "\n",
    "\n",
    "df.head()"
   ]
  },
  {
   "cell_type": "code",
   "execution_count": 13,
   "metadata": {},
   "outputs": [
    {
     "data": {
      "text/plain": [
       "(570, 6)"
      ]
     },
     "execution_count": 13,
     "metadata": {},
     "output_type": "execute_result"
    }
   ],
   "source": [
    "df.shape"
   ]
  },
  {
   "cell_type": "markdown",
   "metadata": {},
   "source": [
    "**Observation:** The dataset contains 570 records and 6 columns."
   ]
  },
  {
   "cell_type": "code",
   "execution_count": 14,
   "metadata": {},
   "outputs": [
    {
     "data": {
      "text/html": [
       "<div>\n",
       "<style scoped>\n",
       "    .dataframe tbody tr th:only-of-type {\n",
       "        vertical-align: middle;\n",
       "    }\n",
       "\n",
       "    .dataframe tbody tr th {\n",
       "        vertical-align: top;\n",
       "    }\n",
       "\n",
       "    .dataframe thead th {\n",
       "        text-align: right;\n",
       "    }\n",
       "</style>\n",
       "<table border=\"1\" class=\"dataframe\">\n",
       "  <thead>\n",
       "    <tr style=\"text-align: right;\">\n",
       "      <th></th>\n",
       "      <th>total_childer_death_per_1000_births</th>\n",
       "      <th>medical_doctors_per_1000_people</th>\n",
       "      <th>avg_living_years</th>\n",
       "      <th>gov_health_spending_per_person($)</th>\n",
       "    </tr>\n",
       "  </thead>\n",
       "  <tbody>\n",
       "    <tr>\n",
       "      <th>count</th>\n",
       "      <td>570.000000</td>\n",
       "      <td>394.000000</td>\n",
       "      <td>570.000000</td>\n",
       "      <td>561.000000</td>\n",
       "    </tr>\n",
       "    <tr>\n",
       "      <th>mean</th>\n",
       "      <td>39.185175</td>\n",
       "      <td>1.952049</td>\n",
       "      <td>70.100702</td>\n",
       "      <td>716.343904</td>\n",
       "    </tr>\n",
       "    <tr>\n",
       "      <th>std</th>\n",
       "      <td>40.334109</td>\n",
       "      <td>1.712035</td>\n",
       "      <td>8.594908</td>\n",
       "      <td>1304.091032</td>\n",
       "    </tr>\n",
       "    <tr>\n",
       "      <th>min</th>\n",
       "      <td>2.620000</td>\n",
       "      <td>0.014100</td>\n",
       "      <td>32.500000</td>\n",
       "      <td>1.180000</td>\n",
       "    </tr>\n",
       "    <tr>\n",
       "      <th>25%</th>\n",
       "      <td>8.845000</td>\n",
       "      <td>0.402250</td>\n",
       "      <td>63.725000</td>\n",
       "      <td>33.800000</td>\n",
       "    </tr>\n",
       "    <tr>\n",
       "      <th>50%</th>\n",
       "      <td>20.600000</td>\n",
       "      <td>1.690000</td>\n",
       "      <td>72.100000</td>\n",
       "      <td>160.000000</td>\n",
       "    </tr>\n",
       "    <tr>\n",
       "      <th>75%</th>\n",
       "      <td>61.775000</td>\n",
       "      <td>3.055000</td>\n",
       "      <td>76.200000</td>\n",
       "      <td>600.000000</td>\n",
       "    </tr>\n",
       "    <tr>\n",
       "      <th>max</th>\n",
       "      <td>209.000000</td>\n",
       "      <td>7.630000</td>\n",
       "      <td>83.300000</td>\n",
       "      <td>6940.000000</td>\n",
       "    </tr>\n",
       "  </tbody>\n",
       "</table>\n",
       "</div>"
      ],
      "text/plain": [
       "       total_childer_death_per_1000_births  medical_doctors_per_1000_people  \\\n",
       "count                           570.000000                       394.000000   \n",
       "mean                             39.185175                         1.952049   \n",
       "std                              40.334109                         1.712035   \n",
       "min                               2.620000                         0.014100   \n",
       "25%                               8.845000                         0.402250   \n",
       "50%                              20.600000                         1.690000   \n",
       "75%                              61.775000                         3.055000   \n",
       "max                             209.000000                         7.630000   \n",
       "\n",
       "       avg_living_years  gov_health_spending_per_person($)  \n",
       "count        570.000000                         561.000000  \n",
       "mean          70.100702                         716.343904  \n",
       "std            8.594908                        1304.091032  \n",
       "min           32.500000                           1.180000  \n",
       "25%           63.725000                          33.800000  \n",
       "50%           72.100000                         160.000000  \n",
       "75%           76.200000                         600.000000  \n",
       "max           83.300000                        6940.000000  "
      ]
     },
     "execution_count": 14,
     "metadata": {},
     "output_type": "execute_result"
    }
   ],
   "source": [
    "df.describe()"
   ]
  },
  {
   "cell_type": "markdown",
   "metadata": {},
   "source": [
    "**Observation:** There are missing data in **medical_doctors_per_1000_people** and **gov_health_spending_per_person($)** fields. Since all 4 columns are important in the analysis, we will exclude the rows that contains null in any field."
   ]
  },
  {
   "cell_type": "markdown",
   "metadata": {},
   "source": [
    "### Step 4: Find and drop null records"
   ]
  },
  {
   "cell_type": "code",
   "execution_count": 15,
   "metadata": {},
   "outputs": [
    {
     "data": {
      "text/plain": [
       "(388, 6)"
      ]
     },
     "execution_count": 15,
     "metadata": {},
     "output_type": "execute_result"
    }
   ],
   "source": [
    "# drop rows missing one or more indicator (having null or NaN)\n",
    "df_without_nulls = df.dropna()\n",
    "# dataframe size after dropping nulls\n",
    "df_without_nulls.shape"
   ]
  },
  {
   "cell_type": "markdown",
   "metadata": {},
   "source": [
    "**Observation:** The dataset size dropped after deleting null rows to 388 rows."
   ]
  },
  {
   "cell_type": "code",
   "execution_count": 16,
   "metadata": {},
   "outputs": [
    {
     "data": {
      "text/plain": [
       "country                                False\n",
       "year                                   False\n",
       "total_childer_death_per_1000_births    False\n",
       "medical_doctors_per_1000_people        False\n",
       "avg_living_years                       False\n",
       "gov_health_spending_per_person($)      False\n",
       "dtype: bool"
      ]
     },
     "execution_count": 16,
     "metadata": {},
     "output_type": "execute_result"
    }
   ],
   "source": [
    "# the below code should result with false (no nulls) for all columns\n",
    "df_without_nulls.isna().any(axis=0)"
   ]
  },
  {
   "cell_type": "code",
   "execution_count": 17,
   "metadata": {},
   "outputs": [
    {
     "data": {
      "text/html": [
       "<div>\n",
       "<style scoped>\n",
       "    .dataframe tbody tr th:only-of-type {\n",
       "        vertical-align: middle;\n",
       "    }\n",
       "\n",
       "    .dataframe tbody tr th {\n",
       "        vertical-align: top;\n",
       "    }\n",
       "\n",
       "    .dataframe thead th {\n",
       "        text-align: right;\n",
       "    }\n",
       "</style>\n",
       "<table border=\"1\" class=\"dataframe\">\n",
       "  <thead>\n",
       "    <tr style=\"text-align: right;\">\n",
       "      <th></th>\n",
       "      <th>total_childer_death_per_1000_births</th>\n",
       "      <th>medical_doctors_per_1000_people</th>\n",
       "      <th>avg_living_years</th>\n",
       "      <th>gov_health_spending_per_person($)</th>\n",
       "    </tr>\n",
       "  </thead>\n",
       "  <tbody>\n",
       "    <tr>\n",
       "      <th>count</th>\n",
       "      <td>388.000000</td>\n",
       "      <td>388.000000</td>\n",
       "      <td>388.000000</td>\n",
       "      <td>388.000000</td>\n",
       "    </tr>\n",
       "    <tr>\n",
       "      <th>mean</th>\n",
       "      <td>32.138093</td>\n",
       "      <td>1.968497</td>\n",
       "      <td>71.506443</td>\n",
       "      <td>845.379974</td>\n",
       "    </tr>\n",
       "    <tr>\n",
       "      <th>std</th>\n",
       "      <td>36.264116</td>\n",
       "      <td>1.711113</td>\n",
       "      <td>8.083235</td>\n",
       "      <td>1386.649307</td>\n",
       "    </tr>\n",
       "    <tr>\n",
       "      <th>min</th>\n",
       "      <td>2.620000</td>\n",
       "      <td>0.014100</td>\n",
       "      <td>46.400000</td>\n",
       "      <td>1.180000</td>\n",
       "    </tr>\n",
       "    <tr>\n",
       "      <th>25%</th>\n",
       "      <td>6.320000</td>\n",
       "      <td>0.438250</td>\n",
       "      <td>66.500000</td>\n",
       "      <td>43.050000</td>\n",
       "    </tr>\n",
       "    <tr>\n",
       "      <th>50%</th>\n",
       "      <td>17.100000</td>\n",
       "      <td>1.715000</td>\n",
       "      <td>73.400000</td>\n",
       "      <td>255.500000</td>\n",
       "    </tr>\n",
       "    <tr>\n",
       "      <th>75%</th>\n",
       "      <td>45.300000</td>\n",
       "      <td>3.065000</td>\n",
       "      <td>78.175000</td>\n",
       "      <td>767.000000</td>\n",
       "    </tr>\n",
       "    <tr>\n",
       "      <th>max</th>\n",
       "      <td>180.000000</td>\n",
       "      <td>7.630000</td>\n",
       "      <td>83.300000</td>\n",
       "      <td>6940.000000</td>\n",
       "    </tr>\n",
       "  </tbody>\n",
       "</table>\n",
       "</div>"
      ],
      "text/plain": [
       "       total_childer_death_per_1000_births  medical_doctors_per_1000_people  \\\n",
       "count                           388.000000                       388.000000   \n",
       "mean                             32.138093                         1.968497   \n",
       "std                              36.264116                         1.711113   \n",
       "min                               2.620000                         0.014100   \n",
       "25%                               6.320000                         0.438250   \n",
       "50%                              17.100000                         1.715000   \n",
       "75%                              45.300000                         3.065000   \n",
       "max                             180.000000                         7.630000   \n",
       "\n",
       "       avg_living_years  gov_health_spending_per_person($)  \n",
       "count        388.000000                         388.000000  \n",
       "mean          71.506443                         845.379974  \n",
       "std            8.083235                        1386.649307  \n",
       "min           46.400000                           1.180000  \n",
       "25%           66.500000                          43.050000  \n",
       "50%           73.400000                         255.500000  \n",
       "75%           78.175000                         767.000000  \n",
       "max           83.300000                        6940.000000  "
      ]
     },
     "execution_count": 17,
     "metadata": {},
     "output_type": "execute_result"
    }
   ],
   "source": [
    "df_without_nulls.describe()"
   ]
  },
  {
   "cell_type": "markdown",
   "metadata": {},
   "source": [
    "**Observation:** After removing rows with missing data, we can see the following about the 388 countries in the period from 2008 to 2010:\n",
    "- The average children death for 388 countries was 32 deaths per 1000 births.\n",
    "\n",
    "- The average number of medical doctors was 1 doctor per 1000 people.\n",
    "\n",
    "- The average living years for people in those 388 countries was 71 years.\n",
    "\n",
    "- The government health spendings per person ranges between 1.18 to 6940 US dollars.\n",
    "\n"
   ]
  },
  {
   "cell_type": "markdown",
   "metadata": {},
   "source": [
    "### Step 5: Create a dataframe including Gulf countries data only (Report scope)"
   ]
  },
  {
   "cell_type": "code",
   "execution_count": 18,
   "metadata": {},
   "outputs": [
    {
     "data": {
      "text/html": [
       "<div>\n",
       "<style scoped>\n",
       "    .dataframe tbody tr th:only-of-type {\n",
       "        vertical-align: middle;\n",
       "    }\n",
       "\n",
       "    .dataframe tbody tr th {\n",
       "        vertical-align: top;\n",
       "    }\n",
       "\n",
       "    .dataframe thead th {\n",
       "        text-align: right;\n",
       "    }\n",
       "</style>\n",
       "<table border=\"1\" class=\"dataframe\">\n",
       "  <thead>\n",
       "    <tr style=\"text-align: right;\">\n",
       "      <th></th>\n",
       "      <th>country</th>\n",
       "      <th>year</th>\n",
       "      <th>total_childer_death_per_1000_births</th>\n",
       "      <th>medical_doctors_per_1000_people</th>\n",
       "      <th>avg_living_years</th>\n",
       "      <th>gov_health_spending_per_person($)</th>\n",
       "    </tr>\n",
       "  </thead>\n",
       "  <tbody>\n",
       "    <tr>\n",
       "      <th>4</th>\n",
       "      <td>United Arab Emirates</td>\n",
       "      <td>2008</td>\n",
       "      <td>8.93</td>\n",
       "      <td>1.640</td>\n",
       "      <td>70.4</td>\n",
       "      <td>1010.0</td>\n",
       "    </tr>\n",
       "    <tr>\n",
       "      <th>17</th>\n",
       "      <td>Bahrain</td>\n",
       "      <td>2008</td>\n",
       "      <td>9.35</td>\n",
       "      <td>0.990</td>\n",
       "      <td>74.0</td>\n",
       "      <td>565.0</td>\n",
       "    </tr>\n",
       "    <tr>\n",
       "      <th>94</th>\n",
       "      <td>Kuwait</td>\n",
       "      <td>2008</td>\n",
       "      <td>10.90</td>\n",
       "      <td>1.880</td>\n",
       "      <td>78.1</td>\n",
       "      <td>874.0</td>\n",
       "    </tr>\n",
       "    <tr>\n",
       "      <th>132</th>\n",
       "      <td>Oman</td>\n",
       "      <td>2008</td>\n",
       "      <td>12.00</td>\n",
       "      <td>1.890</td>\n",
       "      <td>70.0</td>\n",
       "      <td>366.0</td>\n",
       "    </tr>\n",
       "    <tr>\n",
       "      <th>142</th>\n",
       "      <td>Qatar</td>\n",
       "      <td>2008</td>\n",
       "      <td>9.50</td>\n",
       "      <td>3.210</td>\n",
       "      <td>72.5</td>\n",
       "      <td>1300.0</td>\n",
       "    </tr>\n",
       "    <tr>\n",
       "      <th>146</th>\n",
       "      <td>Saudi Arabia</td>\n",
       "      <td>2008</td>\n",
       "      <td>13.80</td>\n",
       "      <td>2.060</td>\n",
       "      <td>71.4</td>\n",
       "      <td>375.0</td>\n",
       "    </tr>\n",
       "    <tr>\n",
       "      <th>194</th>\n",
       "      <td>United Arab Emirates</td>\n",
       "      <td>2009</td>\n",
       "      <td>8.69</td>\n",
       "      <td>1.520</td>\n",
       "      <td>70.6</td>\n",
       "      <td>1310.0</td>\n",
       "    </tr>\n",
       "    <tr>\n",
       "      <th>207</th>\n",
       "      <td>Bahrain</td>\n",
       "      <td>2009</td>\n",
       "      <td>8.92</td>\n",
       "      <td>0.970</td>\n",
       "      <td>74.5</td>\n",
       "      <td>540.0</td>\n",
       "    </tr>\n",
       "    <tr>\n",
       "      <th>284</th>\n",
       "      <td>Kuwait</td>\n",
       "      <td>2009</td>\n",
       "      <td>10.70</td>\n",
       "      <td>1.890</td>\n",
       "      <td>78.7</td>\n",
       "      <td>1350.0</td>\n",
       "    </tr>\n",
       "    <tr>\n",
       "      <th>322</th>\n",
       "      <td>Oman</td>\n",
       "      <td>2009</td>\n",
       "      <td>11.80</td>\n",
       "      <td>1.930</td>\n",
       "      <td>70.2</td>\n",
       "      <td>410.0</td>\n",
       "    </tr>\n",
       "    <tr>\n",
       "      <th>332</th>\n",
       "      <td>Qatar</td>\n",
       "      <td>2009</td>\n",
       "      <td>9.20</td>\n",
       "      <td>3.100</td>\n",
       "      <td>72.8</td>\n",
       "      <td>1260.0</td>\n",
       "    </tr>\n",
       "    <tr>\n",
       "      <th>336</th>\n",
       "      <td>Saudi Arabia</td>\n",
       "      <td>2009</td>\n",
       "      <td>12.90</td>\n",
       "      <td>2.080</td>\n",
       "      <td>71.6</td>\n",
       "      <td>380.0</td>\n",
       "    </tr>\n",
       "    <tr>\n",
       "      <th>384</th>\n",
       "      <td>United Arab Emirates</td>\n",
       "      <td>2010</td>\n",
       "      <td>8.48</td>\n",
       "      <td>1.420</td>\n",
       "      <td>70.8</td>\n",
       "      <td>1080.0</td>\n",
       "    </tr>\n",
       "    <tr>\n",
       "      <th>397</th>\n",
       "      <td>Bahrain</td>\n",
       "      <td>2010</td>\n",
       "      <td>8.53</td>\n",
       "      <td>0.949</td>\n",
       "      <td>75.0</td>\n",
       "      <td>634.0</td>\n",
       "    </tr>\n",
       "    <tr>\n",
       "      <th>474</th>\n",
       "      <td>Kuwait</td>\n",
       "      <td>2010</td>\n",
       "      <td>10.40</td>\n",
       "      <td>2.430</td>\n",
       "      <td>80.1</td>\n",
       "      <td>983.0</td>\n",
       "    </tr>\n",
       "    <tr>\n",
       "      <th>512</th>\n",
       "      <td>Oman</td>\n",
       "      <td>2010</td>\n",
       "      <td>11.70</td>\n",
       "      <td>1.930</td>\n",
       "      <td>70.4</td>\n",
       "      <td>460.0</td>\n",
       "    </tr>\n",
       "    <tr>\n",
       "      <th>522</th>\n",
       "      <td>Qatar</td>\n",
       "      <td>2010</td>\n",
       "      <td>9.00</td>\n",
       "      <td>3.730</td>\n",
       "      <td>73.4</td>\n",
       "      <td>1150.0</td>\n",
       "    </tr>\n",
       "    <tr>\n",
       "      <th>526</th>\n",
       "      <td>Saudi Arabia</td>\n",
       "      <td>2010</td>\n",
       "      <td>12.10</td>\n",
       "      <td>2.410</td>\n",
       "      <td>71.8</td>\n",
       "      <td>427.0</td>\n",
       "    </tr>\n",
       "  </tbody>\n",
       "</table>\n",
       "</div>"
      ],
      "text/plain": [
       "                  country  year  total_childer_death_per_1000_births  \\\n",
       "4    United Arab Emirates  2008                                 8.93   \n",
       "17                Bahrain  2008                                 9.35   \n",
       "94                 Kuwait  2008                                10.90   \n",
       "132                  Oman  2008                                12.00   \n",
       "142                 Qatar  2008                                 9.50   \n",
       "146          Saudi Arabia  2008                                13.80   \n",
       "194  United Arab Emirates  2009                                 8.69   \n",
       "207               Bahrain  2009                                 8.92   \n",
       "284                Kuwait  2009                                10.70   \n",
       "322                  Oman  2009                                11.80   \n",
       "332                 Qatar  2009                                 9.20   \n",
       "336          Saudi Arabia  2009                                12.90   \n",
       "384  United Arab Emirates  2010                                 8.48   \n",
       "397               Bahrain  2010                                 8.53   \n",
       "474                Kuwait  2010                                10.40   \n",
       "512                  Oman  2010                                11.70   \n",
       "522                 Qatar  2010                                 9.00   \n",
       "526          Saudi Arabia  2010                                12.10   \n",
       "\n",
       "     medical_doctors_per_1000_people  avg_living_years  \\\n",
       "4                              1.640              70.4   \n",
       "17                             0.990              74.0   \n",
       "94                             1.880              78.1   \n",
       "132                            1.890              70.0   \n",
       "142                            3.210              72.5   \n",
       "146                            2.060              71.4   \n",
       "194                            1.520              70.6   \n",
       "207                            0.970              74.5   \n",
       "284                            1.890              78.7   \n",
       "322                            1.930              70.2   \n",
       "332                            3.100              72.8   \n",
       "336                            2.080              71.6   \n",
       "384                            1.420              70.8   \n",
       "397                            0.949              75.0   \n",
       "474                            2.430              80.1   \n",
       "512                            1.930              70.4   \n",
       "522                            3.730              73.4   \n",
       "526                            2.410              71.8   \n",
       "\n",
       "     gov_health_spending_per_person($)  \n",
       "4                               1010.0  \n",
       "17                               565.0  \n",
       "94                               874.0  \n",
       "132                              366.0  \n",
       "142                             1300.0  \n",
       "146                              375.0  \n",
       "194                             1310.0  \n",
       "207                              540.0  \n",
       "284                             1350.0  \n",
       "322                              410.0  \n",
       "332                             1260.0  \n",
       "336                              380.0  \n",
       "384                             1080.0  \n",
       "397                              634.0  \n",
       "474                              983.0  \n",
       "512                              460.0  \n",
       "522                             1150.0  \n",
       "526                              427.0  "
      ]
     },
     "execution_count": 18,
     "metadata": {},
     "output_type": "execute_result"
    }
   ],
   "source": [
    "gulf_df = df_without_nulls.loc[df_without_nulls['country'].isin([\"United Arab Emirates\", \"Bahrain\", \"Kuwait\", \"Qatar\", \"Saudi Arabia\", \"Oman\"])]\n",
    "gulf_df      "
   ]
  },
  {
   "cell_type": "code",
   "execution_count": 19,
   "metadata": {},
   "outputs": [
    {
     "data": {
      "text/plain": [
       "(18, 6)"
      ]
     },
     "execution_count": 19,
     "metadata": {},
     "output_type": "execute_result"
    }
   ],
   "source": [
    "gulf_df.shape"
   ]
  },
  {
   "cell_type": "code",
   "execution_count": 20,
   "metadata": {},
   "outputs": [
    {
     "data": {
      "text/html": [
       "<div>\n",
       "<style scoped>\n",
       "    .dataframe tbody tr th:only-of-type {\n",
       "        vertical-align: middle;\n",
       "    }\n",
       "\n",
       "    .dataframe tbody tr th {\n",
       "        vertical-align: top;\n",
       "    }\n",
       "\n",
       "    .dataframe thead th {\n",
       "        text-align: right;\n",
       "    }\n",
       "</style>\n",
       "<table border=\"1\" class=\"dataframe\">\n",
       "  <thead>\n",
       "    <tr style=\"text-align: right;\">\n",
       "      <th></th>\n",
       "      <th>total_childer_death_per_1000_births</th>\n",
       "      <th>medical_doctors_per_1000_people</th>\n",
       "      <th>avg_living_years</th>\n",
       "      <th>gov_health_spending_per_person($)</th>\n",
       "    </tr>\n",
       "  </thead>\n",
       "  <tbody>\n",
       "    <tr>\n",
       "      <th>count</th>\n",
       "      <td>18.000000</td>\n",
       "      <td>18.000000</td>\n",
       "      <td>18.000000</td>\n",
       "      <td>18.000000</td>\n",
       "    </tr>\n",
       "    <tr>\n",
       "      <th>mean</th>\n",
       "      <td>10.383333</td>\n",
       "      <td>2.001611</td>\n",
       "      <td>73.127778</td>\n",
       "      <td>804.111111</td>\n",
       "    </tr>\n",
       "    <tr>\n",
       "      <th>std</th>\n",
       "      <td>1.663027</td>\n",
       "      <td>0.765443</td>\n",
       "      <td>3.098729</td>\n",
       "      <td>376.551830</td>\n",
       "    </tr>\n",
       "    <tr>\n",
       "      <th>min</th>\n",
       "      <td>8.480000</td>\n",
       "      <td>0.949000</td>\n",
       "      <td>70.000000</td>\n",
       "      <td>366.000000</td>\n",
       "    </tr>\n",
       "    <tr>\n",
       "      <th>25%</th>\n",
       "      <td>8.947500</td>\n",
       "      <td>1.550000</td>\n",
       "      <td>70.650000</td>\n",
       "      <td>435.250000</td>\n",
       "    </tr>\n",
       "    <tr>\n",
       "      <th>50%</th>\n",
       "      <td>9.950000</td>\n",
       "      <td>1.910000</td>\n",
       "      <td>72.150000</td>\n",
       "      <td>754.000000</td>\n",
       "    </tr>\n",
       "    <tr>\n",
       "      <th>75%</th>\n",
       "      <td>11.775000</td>\n",
       "      <td>2.327500</td>\n",
       "      <td>74.375000</td>\n",
       "      <td>1132.500000</td>\n",
       "    </tr>\n",
       "    <tr>\n",
       "      <th>max</th>\n",
       "      <td>13.800000</td>\n",
       "      <td>3.730000</td>\n",
       "      <td>80.100000</td>\n",
       "      <td>1350.000000</td>\n",
       "    </tr>\n",
       "  </tbody>\n",
       "</table>\n",
       "</div>"
      ],
      "text/plain": [
       "       total_childer_death_per_1000_births  medical_doctors_per_1000_people  \\\n",
       "count                            18.000000                        18.000000   \n",
       "mean                             10.383333                         2.001611   \n",
       "std                               1.663027                         0.765443   \n",
       "min                               8.480000                         0.949000   \n",
       "25%                               8.947500                         1.550000   \n",
       "50%                               9.950000                         1.910000   \n",
       "75%                              11.775000                         2.327500   \n",
       "max                              13.800000                         3.730000   \n",
       "\n",
       "       avg_living_years  gov_health_spending_per_person($)  \n",
       "count         18.000000                          18.000000  \n",
       "mean          73.127778                         804.111111  \n",
       "std            3.098729                         376.551830  \n",
       "min           70.000000                         366.000000  \n",
       "25%           70.650000                         435.250000  \n",
       "50%           72.150000                         754.000000  \n",
       "75%           74.375000                        1132.500000  \n",
       "max           80.100000                        1350.000000  "
      ]
     },
     "execution_count": 20,
     "metadata": {},
     "output_type": "execute_result"
    }
   ],
   "source": [
    "gulf_df.describe()"
   ]
  },
  {
   "cell_type": "markdown",
   "metadata": {},
   "source": [
    "**Observation:** From the result above, we can derive the following health facts of gulf countries in the period from 2008 to 2010: \n",
    "- The average children death under the age of 5 was 10 deaths per 1000 births, so the average deaths of children under 5 is around 1% of the births.\n",
    "\n",
    "- On average gulf countries had 2 doctor per 1000 people in 2008 to 2010.\n",
    "\n",
    "- People live between 70 to 80 years in gulf countries. \n",
    "\n",
    "- The gulf countries governments spent between 366 to 1350 US dollars per person for health purposes with an average of $804.\n",
    "\n",
    "\n",
    "\n",
    "Now the data is ready for further analysis to answer the predefined questions."
   ]
  },
  {
   "cell_type": "markdown",
   "metadata": {},
   "source": [
    "<a id='eda'></a>\n",
    "## Exploratory Data Analysis\n",
    "In this section, the 4 indicators will be briefly explored before going deep to answer the defined questions.\n",
    "\n",
    "\n",
    "### Before answering the defined questions, lets explore the 4 indicators for gulf countries.\n",
    "Since the values for all indicators are numeric, so using boxplot will give an overview of the values, such as minimum, maximum, mean, and outlairs."
   ]
  },
  {
   "cell_type": "code",
   "execution_count": 21,
   "metadata": {},
   "outputs": [
    {
     "data": {
      "text/plain": [
       "<matplotlib.axes._subplots.AxesSubplot at 0x7fd4eba269a0>"
      ]
     },
     "execution_count": 21,
     "metadata": {},
     "output_type": "execute_result"
    },
    {
     "data": {
      "image/png": "[encoded data removed]",
      "text/plain": [
       "<Figure size 432x288 with 1 Axes>"
      ]
     },
     "metadata": {
      "needs_background": "light"
     },
     "output_type": "display_data"
    }
   ],
   "source": [
    "# plot a boxplot for each indicator\n",
    "gulf_df.boxplot(column='medical_doctors_per_1000_people', figsize=(6, 4))"
   ]
  },
  {
   "cell_type": "markdown",
   "metadata": {},
   "source": [
    "**Observatio:** The number of medical doctors per 1000 people in the gulf countries ranges between 1.6 to 2.3 doctors. However, on average gulf countries had around 2 doctor per 1000 people in 2008 to 2010.\n",
    "Moreover, there is one outlair having > 3 doctors per 1000 people."
   ]
  },
  {
   "cell_type": "code",
   "execution_count": 22,
   "metadata": {},
   "outputs": [
    {
     "data": {
      "text/plain": [
       "<matplotlib.axes._subplots.AxesSubplot at 0x7fd4eacd8b80>"
      ]
     },
     "execution_count": 22,
     "metadata": {},
     "output_type": "execute_result"
    },
    {
     "data": {
      "image/png": "[encoded data removed]",
      "text/plain": [
       "<Figure size 432x288 with 1 Axes>"
      ]
     },
     "metadata": {
      "needs_background": "light"
     },
     "output_type": "display_data"
    }
   ],
   "source": [
    "gulf_df.boxplot(column='total_childer_death_per_1000_births', figsize=(6, 4))"
   ]
  },
  {
   "cell_type": "markdown",
   "metadata": {},
   "source": [
    "**Observatio:** The average children death for gulf countries was 10 deaths per 1000 births. "
   ]
  },
  {
   "cell_type": "code",
   "execution_count": 23,
   "metadata": {},
   "outputs": [
    {
     "data": {
      "text/plain": [
       "<matplotlib.axes._subplots.AxesSubplot at 0x7fd4eae37970>"
      ]
     },
     "execution_count": 23,
     "metadata": {},
     "output_type": "execute_result"
    },
    {
     "data": {
      "image/png": "[encoded data removed]",
      "text/plain": [
       "<Figure size 432x288 with 1 Axes>"
      ]
     },
     "metadata": {
      "needs_background": "light"
     },
     "output_type": "display_data"
    }
   ],
   "source": [
    "gulf_df.boxplot(column='avg_living_years', figsize=(6, 4))"
   ]
  },
  {
   "cell_type": "markdown",
   "metadata": {},
   "source": [
    "**Observatio:** People in gulf countries live between 70 to 80 years with an average of 72 years."
   ]
  },
  {
   "cell_type": "code",
   "execution_count": 24,
   "metadata": {},
   "outputs": [
    {
     "data": {
      "text/plain": [
       "<matplotlib.axes._subplots.AxesSubplot at 0x7fd4eaddab50>"
      ]
     },
     "execution_count": 24,
     "metadata": {},
     "output_type": "execute_result"
    },
    {
     "data": {
      "image/png": "[encoded data removed]",
      "text/plain": [
       "<Figure size 432x288 with 1 Axes>"
      ]
     },
     "metadata": {
      "needs_background": "light"
     },
     "output_type": "display_data"
    }
   ],
   "source": [
    "gulf_df.boxplot(column='gov_health_spending_per_person($)', figsize=(6, 4))"
   ]
  },
  {
   "cell_type": "markdown",
   "metadata": {},
   "source": [
    "**Observatio:** The gulf countries governments spent between 366 to 1350 US dollars per person for health purposes with an average below $800."
   ]
  },
  {
   "cell_type": "markdown",
   "metadata": {},
   "source": [
    "### Research Question 1: How is the health awarness in the gulf countries over the years from 2008 to 2010? \n",
    "Relaying on the number of deaths and medical doctors."
   ]
  },
  {
   "cell_type": "code",
   "execution_count": 25,
   "metadata": {},
   "outputs": [
    {
     "data": {
      "text/plain": [
       "<matplotlib.axes._subplots.AxesSubplot at 0x7fd4eb03a2b0>"
      ]
     },
     "execution_count": 25,
     "metadata": {},
     "output_type": "execute_result"
    },
    {
     "data": {
      "image/png": "[encoded data removed]",
      "text/plain": [
       "<Figure size 864x360 with 1 Axes>"
      ]
     },
     "metadata": {
      "needs_background": "light"
     },
     "output_type": "display_data"
    }
   ],
   "source": [
    "# setting the dimensions of the plot\n",
    "fig, ax = plt.subplots(figsize=(12, 5)) \n",
    "\n",
    "sns.lineplot(\n",
    "    data=gulf_df,\n",
    "    x=\"country\", y=\"medical_doctors_per_1000_people\",\n",
    "    hue=\"year\",\n",
    "    ax=ax,\n",
    ")"
   ]
  },
  {
   "cell_type": "markdown",
   "metadata": {},
   "source": [
    "**Observation:** The above chart illustrates that the number of medical doctors per 1000 people has increased over the period from 2008 to 2010 in all gulf countries except for Bahrain and United Arab Emirates. In contrast, Bahrain and United Arab Emirates reported a decrease in the number of medical doctors per 1000 people in 2010 compared to 2008. However, multiple factors might be behind this reduction, such as increase in population compared to existing doctors. "
   ]
  },
  {
   "cell_type": "code",
   "execution_count": 26,
   "metadata": {},
   "outputs": [
    {
     "data": {
      "text/plain": [
       "<matplotlib.axes._subplots.AxesSubplot at 0x7fd4eaf15d60>"
      ]
     },
     "execution_count": 26,
     "metadata": {},
     "output_type": "execute_result"
    },
    {
     "data": {
      "image/png": "[encoded data removed]",
      "text/plain": [
       "<Figure size 864x360 with 1 Axes>"
      ]
     },
     "metadata": {
      "needs_background": "light"
     },
     "output_type": "display_data"
    }
   ],
   "source": [
    "# setting the dimensions of the plot\n",
    "fig, ax = plt.subplots(figsize=(12, 5)) \n",
    "\n",
    "sns.lineplot(\n",
    "    data=gulf_df,\n",
    "    x=\"country\", y=\"total_childer_death_per_1000_births\",\n",
    "    hue=\"year\",\n",
    "    ax=ax,\n",
    ")"
   ]
  },
  {
   "cell_type": "markdown",
   "metadata": {},
   "source": [
    "**Observation:** The line plot above shows that the number of children under the age of 5 deaths reduced over the years."
   ]
  },
  {
   "cell_type": "markdown",
   "metadata": {},
   "source": [
    "**Answer of Research Question 1:** The number of children death decreased over the years which is a good indicator of health awareness. Moreover, more medical doctors have been allocated per 1000 people in most of gulf countries."
   ]
  },
  {
   "cell_type": "markdown",
   "metadata": {},
   "source": [
    "### Research Question 2: Which country spent more in health over the period from 2008 to 2010?"
   ]
  },
  {
   "cell_type": "code",
   "execution_count": 27,
   "metadata": {},
   "outputs": [
    {
     "data": {
      "image/png": "[encoded data removed]",
      "text/plain": [
       "<Figure size 720x360 with 1 Axes>"
      ]
     },
     "metadata": {
      "needs_background": "light"
     },
     "output_type": "display_data"
    }
   ],
   "source": [
    "# Step 1: calculate the average health spendings for each country in the period 2008-2010\n",
    "avg_spendings = gulf_df.groupby('country')['gov_health_spending_per_person($)'].mean().sort_values().to_frame(name = 'avg_spendings').reset_index()\n",
    "# Step 2: Use barplot to find the top health spending country\n",
    "fig = plt.figure(figsize = (10, 5))\n",
    " \n",
    "# creating the bar plot\n",
    "plt.bar(avg_spendings['country'], avg_spendings['avg_spendings'], color ='navy',\n",
    "        width = 0.4)\n",
    " \n",
    "plt.xlabel(\"Gulf Countries\")\n",
    "plt.ylabel(\"Average Health Spendings during 2008 to 2010\")\n",
    "plt.title(\"Average Health Spendings during 2008 to 2010 in Gulf Countries\")\n",
    "plt.show()"
   ]
  },
  {
   "cell_type": "markdown",
   "metadata": {},
   "source": [
    "**Answer of Research Question 2:** Qatar is the top gulf country in terms of spendings in the health sector per person."
   ]
  },
  {
   "cell_type": "markdown",
   "metadata": {},
   "source": [
    "### Research Question 3: Do governments who spent high dollar amounts in health reported lower deaths and increased their life expectancy? is there a positive relationship?\n",
    "\n",
    "Based on question 2, Qatar, United Arab Emirates, and Kuwait are the top 3 gulf countries spending in health. Therefore, to answer this question (question 3) we explore the children mortality and life expectancy trends of these three countries over the years."
   ]
  },
  {
   "cell_type": "code",
   "execution_count": 28,
   "metadata": {},
   "outputs": [
    {
     "data": {
      "text/plain": [
       "<matplotlib.axes._subplots.AxesSubplot at 0x7fd4ec2d6400>"
      ]
     },
     "execution_count": 28,
     "metadata": {},
     "output_type": "execute_result"
    },
    {
     "data": {
      "image/png": "[encoded data removed]",
      "text/plain": [
       "<Figure size 864x360 with 1 Axes>"
      ]
     },
     "metadata": {
      "needs_background": "light"
     },
     "output_type": "display_data"
    }
   ],
   "source": [
    "# setting the dimensions of the plot\n",
    "fig, ax = plt.subplots(figsize=(12, 5)) \n",
    "\n",
    "sns.lineplot(\n",
    "    # data = records of the top 3 gulf countries spending dollars in health per person\n",
    "#     data=gulf_df.loc[gulf_df['country'].isin(avg_spendings.tail(3).country)],\n",
    "    data = gulf_df,\n",
    "    x=\"country\", y=\"total_childer_death_per_1000_births\",\n",
    "    hue=\"year\",\n",
    "    ax=ax,\n",
    ")"
   ]
  },
  {
   "cell_type": "code",
   "execution_count": 29,
   "metadata": {},
   "outputs": [
    {
     "data": {
      "text/html": [
       "<div>\n",
       "<style scoped>\n",
       "    .dataframe tbody tr th:only-of-type {\n",
       "        vertical-align: middle;\n",
       "    }\n",
       "\n",
       "    .dataframe tbody tr th {\n",
       "        vertical-align: top;\n",
       "    }\n",
       "\n",
       "    .dataframe thead th {\n",
       "        text-align: right;\n",
       "    }\n",
       "</style>\n",
       "<table border=\"1\" class=\"dataframe\">\n",
       "  <thead>\n",
       "    <tr style=\"text-align: right;\">\n",
       "      <th></th>\n",
       "      <th>country</th>\n",
       "      <th>ratio</th>\n",
       "    </tr>\n",
       "  </thead>\n",
       "  <tbody>\n",
       "    <tr>\n",
       "      <th>6</th>\n",
       "      <td>United Arab Emirates</td>\n",
       "      <td>-5.039194</td>\n",
       "    </tr>\n",
       "    <tr>\n",
       "      <th>7</th>\n",
       "      <td>Bahrain</td>\n",
       "      <td>-8.770053</td>\n",
       "    </tr>\n",
       "    <tr>\n",
       "      <th>8</th>\n",
       "      <td>Kuwait</td>\n",
       "      <td>-4.587156</td>\n",
       "    </tr>\n",
       "    <tr>\n",
       "      <th>9</th>\n",
       "      <td>Oman</td>\n",
       "      <td>-2.500000</td>\n",
       "    </tr>\n",
       "    <tr>\n",
       "      <th>10</th>\n",
       "      <td>Qatar</td>\n",
       "      <td>-5.263158</td>\n",
       "    </tr>\n",
       "    <tr>\n",
       "      <th>11</th>\n",
       "      <td>Saudi Arabia</td>\n",
       "      <td>-12.318841</td>\n",
       "    </tr>\n",
       "  </tbody>\n",
       "</table>\n",
       "</div>"
      ],
      "text/plain": [
       "                 country      ratio\n",
       "6   United Arab Emirates  -5.039194\n",
       "7                Bahrain  -8.770053\n",
       "8                 Kuwait  -4.587156\n",
       "9                   Oman  -2.500000\n",
       "10                 Qatar  -5.263158\n",
       "11          Saudi Arabia -12.318841"
      ]
     },
     "execution_count": 29,
     "metadata": {},
     "output_type": "execute_result"
    }
   ],
   "source": [
    "# the following code return the decrement ratio of children death in 2010 compared to 2008 in the top spending countries\n",
    "gulf_df.loc[gulf_df['year'].isin(['2008', '2010'])].set_index('country').groupby('country')['total_childer_death_per_1000_births'].pct_change().multiply(100).to_frame(name = 'ratio').reset_index().dropna()"
   ]
  },
  {
   "cell_type": "markdown",
   "metadata": {},
   "source": [
    "**Observation:** The chart above illustrates that the children mortality decreased over the years. However, we can not relate the children mortality reduction directly to the high spendings in health care per person. For instance, Saudi Arabia reported the lowest amount spending per person in health sector, yet it reported the highest reduction percentage in childern mortality (12.3%)."
   ]
  },
  {
   "cell_type": "code",
   "execution_count": 30,
   "metadata": {},
   "outputs": [
    {
     "data": {
      "text/plain": [
       "<matplotlib.axes._subplots.AxesSubplot at 0x7fd4ebdb4160>"
      ]
     },
     "execution_count": 30,
     "metadata": {},
     "output_type": "execute_result"
    },
    {
     "data": {
      "image/png": "[encoded data removed]",
      "text/plain": [
       "<Figure size 864x360 with 1 Axes>"
      ]
     },
     "metadata": {
      "needs_background": "light"
     },
     "output_type": "display_data"
    }
   ],
   "source": [
    "# setting the dimensions of the plot\n",
    "fig, ax = plt.subplots(figsize=(12, 5)) \n",
    "\n",
    "sns.lineplot(\n",
    "    # data = records of the top 3 gulf countries spending dollars in health per person\n",
    "    data=gulf_df,\n",
    "    x=\"country\", y=\"avg_living_years\",\n",
    "    hue=\"year\",\n",
    "    ax=ax,\n",
    ")"
   ]
  },
  {
   "cell_type": "code",
   "execution_count": 31,
   "metadata": {},
   "outputs": [
    {
     "data": {
      "text/html": [
       "<div>\n",
       "<style scoped>\n",
       "    .dataframe tbody tr th:only-of-type {\n",
       "        vertical-align: middle;\n",
       "    }\n",
       "\n",
       "    .dataframe tbody tr th {\n",
       "        vertical-align: top;\n",
       "    }\n",
       "\n",
       "    .dataframe thead th {\n",
       "        text-align: right;\n",
       "    }\n",
       "</style>\n",
       "<table border=\"1\" class=\"dataframe\">\n",
       "  <thead>\n",
       "    <tr style=\"text-align: right;\">\n",
       "      <th></th>\n",
       "      <th>country</th>\n",
       "      <th>ratio</th>\n",
       "    </tr>\n",
       "  </thead>\n",
       "  <tbody>\n",
       "    <tr>\n",
       "      <th>6</th>\n",
       "      <td>United Arab Emirates</td>\n",
       "      <td>0.568182</td>\n",
       "    </tr>\n",
       "    <tr>\n",
       "      <th>7</th>\n",
       "      <td>Bahrain</td>\n",
       "      <td>1.351351</td>\n",
       "    </tr>\n",
       "    <tr>\n",
       "      <th>8</th>\n",
       "      <td>Kuwait</td>\n",
       "      <td>2.560819</td>\n",
       "    </tr>\n",
       "    <tr>\n",
       "      <th>9</th>\n",
       "      <td>Oman</td>\n",
       "      <td>0.571429</td>\n",
       "    </tr>\n",
       "    <tr>\n",
       "      <th>10</th>\n",
       "      <td>Qatar</td>\n",
       "      <td>1.241379</td>\n",
       "    </tr>\n",
       "    <tr>\n",
       "      <th>11</th>\n",
       "      <td>Saudi Arabia</td>\n",
       "      <td>0.560224</td>\n",
       "    </tr>\n",
       "  </tbody>\n",
       "</table>\n",
       "</div>"
      ],
      "text/plain": [
       "                 country     ratio\n",
       "6   United Arab Emirates  0.568182\n",
       "7                Bahrain  1.351351\n",
       "8                 Kuwait  2.560819\n",
       "9                   Oman  0.571429\n",
       "10                 Qatar  1.241379\n",
       "11          Saudi Arabia  0.560224"
      ]
     },
     "execution_count": 31,
     "metadata": {},
     "output_type": "execute_result"
    }
   ],
   "source": [
    "# the following code return the increment ratio in the living age in 2010 compared to 2008 in the top spending countries\n",
    "gulf_df.loc[gulf_df['year'].isin(['2008', '2010'])].set_index('country').groupby('country')['avg_living_years'].pct_change().multiply(100).to_frame(name = 'ratio').reset_index().dropna()"
   ]
  },
  {
   "cell_type": "markdown",
   "metadata": {},
   "source": [
    "**Observation:** The chart above illustrates that the people living age increased over the years. However, this increment also might directly relate to the high spendings in health care per person. From the results, United Arab Emirates is the second spending country, yet it reported increment ratio (0.56%) close to the lowest spending country (Saudi Arabia)."
   ]
  },
  {
   "cell_type": "markdown",
   "metadata": {},
   "source": [
    "**Answer of Research Question 3:** Do governments who spent high dollar amounts in health reported lower deaths and increased their life expectancy? is there a positive relationship?\n",
    "\n",
    "Well, the data shows that children deaths reduced and the life expectancy increased over the years. However, it does not show a direct relationship between this health improvement to the high spending by governments in the health care sector."
   ]
  },
  {
   "cell_type": "markdown",
   "metadata": {},
   "source": [
    "<a id='conclusions'></a>\n",
    "## Conclusions\n",
    "\n",
    "To sum up, the health status in gulf countries have positively improved over the years (children deaths reduced and the life expectancy and number of doctors increased). However, population also increased over the years and might effect the number of medical doctors allocated per 1000 person (few doctors compared to full population).\n",
    "Additionally, Qatar, United Arab Emirates, and Kuwait spent more in health care sector compared to other gulf countries.\n",
    "On the other hand, the data does not show a direct relationship between health improvement and high governments' spendings in the health care sector.\n",
    "\n",
    "## Limitations:\n",
    "This analysis was limited to a specific period (2008 to 2010) because governments spending in health sector data was not updated since 2010.Moreover, the analysis was limited to gulf countries. Besides, other unexplored factors (indicators) might have an impact on the analysis results."
   ]
  }
 ],
 "metadata": {
  "kernelspec": {
   "display_name": "Python 3",
   "language": "python",
   "name": "python3"
  },
  "language_info": {
   "codemirror_mode": {
    "name": "ipython",
    "version": 3
   },
   "file_extension": ".py",
   "mimetype": "text/x-python",
   "name": "python",
   "nbconvert_exporter": "python",
   "pygments_lexer": "ipython3",
   "version": "3.8.3"
  }
 },
 "nbformat": 4,
 "nbformat_minor": 2
}
